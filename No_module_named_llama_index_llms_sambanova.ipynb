{
 "cells": [
  {
   "cell_type": "code",
   "execution_count": 2,
   "id": "1c097621-d680-423c-b7c0-87835229532c",
   "metadata": {
    "collapsed": true,
    "jupyter": {
     "outputs_hidden": true
    },
    "scrolled": true
   },
   "outputs": [
    {
     "name": "stderr",
     "output_type": "stream",
     "text": [
      "WARNING: Skipping llama-index-llms-fireworks as it is not installed.\n"
     ]
    },
    {
     "name": "stdout",
     "output_type": "stream",
     "text": [
      "Found existing installation: llama-cloud 0.1.5\n",
      "Uninstalling llama-cloud-0.1.5:\n",
      "  Successfully uninstalled llama-cloud-0.1.5\n",
      "Found existing installation: llama-index 0.11.21\n",
      "Uninstalling llama-index-0.11.21:\n",
      "  Successfully uninstalled llama-index-0.11.21\n",
      "Found existing installation: llama-index-agent-openai 0.3.4\n",
      "Uninstalling llama-index-agent-openai-0.3.4:\n",
      "  Successfully uninstalled llama-index-agent-openai-0.3.4\n",
      "Found existing installation: llama-index-cli 0.3.1\n",
      "Uninstalling llama-index-cli-0.3.1:\n",
      "  Successfully uninstalled llama-index-cli-0.3.1\n",
      "Found existing installation: llama-index-core 0.11.23\n",
      "Uninstalling llama-index-core-0.11.23:\n",
      "  Successfully uninstalled llama-index-core-0.11.23\n",
      "Found existing installation: llama-index-embeddings-openai 0.2.5\n",
      "Uninstalling llama-index-embeddings-openai-0.2.5:\n",
      "  Successfully uninstalled llama-index-embeddings-openai-0.2.5\n",
      "Found existing installation: llama-index-indices-managed-llama-cloud 0.6.0\n",
      "Uninstalling llama-index-indices-managed-llama-cloud-0.6.0:\n",
      "  Successfully uninstalled llama-index-indices-managed-llama-cloud-0.6.0\n",
      "Found existing installation: llama-index-legacy 0.9.48.post4\n",
      "Uninstalling llama-index-legacy-0.9.48.post4:\n",
      "  Successfully uninstalled llama-index-legacy-0.9.48.post4\n"
     ]
    },
    {
     "name": "stderr",
     "output_type": "stream",
     "text": [
      "WARNING: Skipping llama-index-llms-fireworks as it is not installed.\n"
     ]
    },
    {
     "name": "stdout",
     "output_type": "stream",
     "text": [
      "Found existing installation: llama-index-llms-openai 0.2.16\n",
      "Uninstalling llama-index-llms-openai-0.2.16:\n",
      "  Successfully uninstalled llama-index-llms-openai-0.2.16\n",
      "Found existing installation: llama-index-multi-modal-llms-openai 0.2.3\n",
      "Uninstalling llama-index-multi-modal-llms-openai-0.2.3:\n",
      "  Successfully uninstalled llama-index-multi-modal-llms-openai-0.2.3\n",
      "Found existing installation: llama-index-program-openai 0.2.0\n",
      "Uninstalling llama-index-program-openai-0.2.0:\n",
      "  Successfully uninstalled llama-index-program-openai-0.2.0\n",
      "Found existing installation: llama-index-question-gen-openai 0.2.0\n",
      "Uninstalling llama-index-question-gen-openai-0.2.0:\n",
      "  Successfully uninstalled llama-index-question-gen-openai-0.2.0\n",
      "Found existing installation: llama-index-readers-file 0.2.2\n",
      "Uninstalling llama-index-readers-file-0.2.2:\n",
      "  Successfully uninstalled llama-index-readers-file-0.2.2\n",
      "Found existing installation: llama-index-readers-llama-parse 0.3.0\n",
      "Uninstalling llama-index-readers-llama-parse-0.3.0:\n",
      "  Successfully uninstalled llama-index-readers-llama-parse-0.3.0\n",
      "Found existing installation: llama-parse 0.5.14\n",
      "Uninstalling llama-parse-0.5.14:\n",
      "  Successfully uninstalled llama-parse-0.5.14\n"
     ]
    }
   ],
   "source": [
    "!pip uninstall -y llama-index-llms-fireworks\n",
    "!pip uninstall -y llama-cloud\n",
    "!pip uninstall -y llama-index\n",
    "!pip uninstall -y llama-index-agent-openai\n",
    "!pip uninstall -y llama-index-cli\n",
    "!pip uninstall -y llama-index-core\n",
    "!pip uninstall -y llama-index-embeddings-openai\n",
    "!pip uninstall -y llama-index-indices-managed-llama-cloud\n",
    "!pip uninstall -y llama-index-legacy\n",
    "!pip uninstall -y llama-index-llms-fireworks\n",
    "!pip uninstall -y llama-index-llms-openai\n",
    "!pip uninstall -y llama-index-multi-modal-llms-openai\n",
    "!pip uninstall -y llama-index-program-openai\n",
    "!pip uninstall -y llama-index-question-gen-openai\n",
    "!pip uninstall -y llama-index-readers-file\n",
    "!pip uninstall -y llama-index-readers-llama-parse\n",
    "!pip uninstall -y llama-parse"
   ]
  },
  {
   "cell_type": "code",
   "execution_count": 3,
   "id": "65b85564-e8a4-4f04-a20d-687e41b0a88b",
   "metadata": {
    "scrolled": true
   },
   "outputs": [
    {
     "name": "stdout",
     "output_type": "stream",
     "text": [
      "Collecting llama-index\n",
      "  Using cached llama_index-0.12.0-py3-none-any.whl.metadata (11 kB)\n",
      "Requirement already satisfied: llama-index-llms-sambanovacloud>=0.3 in c:\\users\\cicada\\appdata\\local\\packages\\pythonsoftwarefoundation.python.3.11_qbz5n2kfra8p0\\localcache\\local-packages\\python311\\site-packages (0.3.1)\n",
      "Requirement already satisfied: sseclient-py in c:\\users\\cicada\\appdata\\local\\packages\\pythonsoftwarefoundation.python.3.11_qbz5n2kfra8p0\\localcache\\local-packages\\python311\\site-packages (1.8.0)\n",
      "Collecting llama-index-agent-openai<0.5.0,>=0.4.0 (from llama-index)\n",
      "  Using cached llama_index_agent_openai-0.4.0-py3-none-any.whl.metadata (726 bytes)\n",
      "Collecting llama-index-cli<0.5.0,>=0.4.0 (from llama-index)\n",
      "  Using cached llama_index_cli-0.4.0-py3-none-any.whl.metadata (1.5 kB)\n",
      "Collecting llama-index-core<0.13.0,>=0.12.0 (from llama-index)\n",
      "  Using cached llama_index_core-0.12.0-py3-none-any.whl.metadata (2.5 kB)\n",
      "Collecting llama-index-embeddings-openai<0.4.0,>=0.3.0 (from llama-index)\n",
      "  Using cached llama_index_embeddings_openai-0.3.0-py3-none-any.whl.metadata (684 bytes)\n",
      "Collecting llama-index-indices-managed-llama-cloud>=0.4.0 (from llama-index)\n",
      "  Using cached llama_index_indices_managed_llama_cloud-0.6.2-py3-none-any.whl.metadata (3.8 kB)\n",
      "Collecting llama-index-legacy<0.10.0,>=0.9.48 (from llama-index)\n",
      "  Using cached llama_index_legacy-0.9.48.post4-py3-none-any.whl.metadata (8.5 kB)\n",
      "Collecting llama-index-llms-openai<0.4.0,>=0.3.0 (from llama-index)\n",
      "  Using cached llama_index_llms_openai-0.3.0-py3-none-any.whl.metadata (3.3 kB)\n",
      "Collecting llama-index-multi-modal-llms-openai<0.4.0,>=0.3.0 (from llama-index)\n",
      "  Using cached llama_index_multi_modal_llms_openai-0.3.0-py3-none-any.whl.metadata (726 bytes)\n",
      "Collecting llama-index-program-openai<0.4.0,>=0.3.0 (from llama-index)\n",
      "  Using cached llama_index_program_openai-0.3.0-py3-none-any.whl.metadata (764 bytes)\n",
      "Collecting llama-index-question-gen-openai<0.4.0,>=0.3.0 (from llama-index)\n",
      "  Using cached llama_index_question_gen_openai-0.3.0-py3-none-any.whl.metadata (783 bytes)\n",
      "Collecting llama-index-readers-file<0.5.0,>=0.4.0 (from llama-index)\n",
      "  Using cached llama_index_readers_file-0.4.0-py3-none-any.whl.metadata (5.4 kB)\n",
      "Collecting llama-index-readers-llama-parse>=0.4.0 (from llama-index)\n",
      "  Using cached llama_index_readers_llama_parse-0.4.0-py3-none-any.whl.metadata (3.6 kB)\n",
      "Requirement already satisfied: nltk>3.8.1 in c:\\users\\cicada\\appdata\\local\\packages\\pythonsoftwarefoundation.python.3.11_qbz5n2kfra8p0\\localcache\\local-packages\\python311\\site-packages (from llama-index) (3.9.1)\n",
      "INFO: pip is looking at multiple versions of llama-index-llms-sambanovacloud to determine which version is compatible with other requirements. This could take a while.\n",
      "Collecting llama-index-llms-sambanovacloud>=0.3\n",
      "  Using cached llama_index_llms_sambanovacloud-0.4.0-py3-none-any.whl.metadata (1.6 kB)\n",
      "Requirement already satisfied: aiohttp in c:\\users\\cicada\\appdata\\local\\packages\\pythonsoftwarefoundation.python.3.11_qbz5n2kfra8p0\\localcache\\local-packages\\python311\\site-packages (from llama-index-llms-sambanovacloud>=0.3) (3.9.3)\n",
      "Requirement already satisfied: python-dotenv<2.0.0,>=1.0.1 in c:\\users\\cicada\\appdata\\local\\packages\\pythonsoftwarefoundation.python.3.11_qbz5n2kfra8p0\\localcache\\local-packages\\python311\\site-packages (from llama-index-llms-sambanovacloud>=0.3) (1.0.1)\n",
      "Requirement already satisfied: openai>=1.14.0 in c:\\users\\cicada\\appdata\\local\\packages\\pythonsoftwarefoundation.python.3.11_qbz5n2kfra8p0\\localcache\\local-packages\\python311\\site-packages (from llama-index-agent-openai<0.5.0,>=0.4.0->llama-index) (1.51.2)\n",
      "Requirement already satisfied: PyYAML>=6.0.1 in c:\\users\\cicada\\appdata\\local\\packages\\pythonsoftwarefoundation.python.3.11_qbz5n2kfra8p0\\localcache\\local-packages\\python311\\site-packages (from llama-index-core<0.13.0,>=0.12.0->llama-index) (6.0.1)\n",
      "Requirement already satisfied: SQLAlchemy>=1.4.49 in c:\\users\\cicada\\appdata\\local\\packages\\pythonsoftwarefoundation.python.3.11_qbz5n2kfra8p0\\localcache\\local-packages\\python311\\site-packages (from SQLAlchemy[asyncio]>=1.4.49->llama-index-core<0.13.0,>=0.12.0->llama-index) (2.0.23)\n",
      "Requirement already satisfied: dataclasses-json in c:\\users\\cicada\\appdata\\local\\packages\\pythonsoftwarefoundation.python.3.11_qbz5n2kfra8p0\\localcache\\local-packages\\python311\\site-packages (from llama-index-core<0.13.0,>=0.12.0->llama-index) (0.5.14)\n",
      "Requirement already satisfied: deprecated>=1.2.9.3 in c:\\users\\cicada\\appdata\\local\\packages\\pythonsoftwarefoundation.python.3.11_qbz5n2kfra8p0\\localcache\\local-packages\\python311\\site-packages (from llama-index-core<0.13.0,>=0.12.0->llama-index) (1.2.14)\n",
      "Requirement already satisfied: dirtyjson<2.0.0,>=1.0.8 in c:\\users\\cicada\\appdata\\local\\packages\\pythonsoftwarefoundation.python.3.11_qbz5n2kfra8p0\\localcache\\local-packages\\python311\\site-packages (from llama-index-core<0.13.0,>=0.12.0->llama-index) (1.0.8)\n",
      "Requirement already satisfied: filetype<2.0.0,>=1.2.0 in c:\\users\\cicada\\appdata\\local\\packages\\pythonsoftwarefoundation.python.3.11_qbz5n2kfra8p0\\localcache\\local-packages\\python311\\site-packages (from llama-index-core<0.13.0,>=0.12.0->llama-index) (1.2.0)\n",
      "Requirement already satisfied: fsspec>=2023.5.0 in c:\\users\\cicada\\appdata\\local\\packages\\pythonsoftwarefoundation.python.3.11_qbz5n2kfra8p0\\localcache\\local-packages\\python311\\site-packages (from llama-index-core<0.13.0,>=0.12.0->llama-index) (2023.10.0)\n",
      "Requirement already satisfied: httpx in c:\\users\\cicada\\appdata\\local\\packages\\pythonsoftwarefoundation.python.3.11_qbz5n2kfra8p0\\localcache\\local-packages\\python311\\site-packages (from llama-index-core<0.13.0,>=0.12.0->llama-index) (0.27.2)\n",
      "Requirement already satisfied: nest-asyncio<2.0.0,>=1.5.8 in c:\\users\\cicada\\appdata\\local\\packages\\pythonsoftwarefoundation.python.3.11_qbz5n2kfra8p0\\localcache\\local-packages\\python311\\site-packages (from llama-index-core<0.13.0,>=0.12.0->llama-index) (1.5.8)\n",
      "Requirement already satisfied: networkx>=3.0 in c:\\users\\cicada\\appdata\\local\\packages\\pythonsoftwarefoundation.python.3.11_qbz5n2kfra8p0\\localcache\\local-packages\\python311\\site-packages (from llama-index-core<0.13.0,>=0.12.0->llama-index) (3.2.1)\n",
      "Requirement already satisfied: numpy in c:\\users\\cicada\\appdata\\local\\packages\\pythonsoftwarefoundation.python.3.11_qbz5n2kfra8p0\\localcache\\local-packages\\python311\\site-packages (from llama-index-core<0.13.0,>=0.12.0->llama-index) (1.26.2)\n",
      "Requirement already satisfied: pillow>=9.0.0 in c:\\users\\cicada\\appdata\\local\\packages\\pythonsoftwarefoundation.python.3.11_qbz5n2kfra8p0\\localcache\\local-packages\\python311\\site-packages (from llama-index-core<0.13.0,>=0.12.0->llama-index) (10.1.0)\n",
      "Requirement already satisfied: pydantic<3.0.0,>=2.7.0 in c:\\users\\cicada\\appdata\\local\\packages\\pythonsoftwarefoundation.python.3.11_qbz5n2kfra8p0\\localcache\\local-packages\\python311\\site-packages (from llama-index-core<0.13.0,>=0.12.0->llama-index) (2.9.2)\n",
      "Requirement already satisfied: requests>=2.31.0 in c:\\users\\cicada\\appdata\\local\\packages\\pythonsoftwarefoundation.python.3.11_qbz5n2kfra8p0\\localcache\\local-packages\\python311\\site-packages (from llama-index-core<0.13.0,>=0.12.0->llama-index) (2.32.3)\n",
      "Requirement already satisfied: tenacity!=8.4.0,<9.0.0,>=8.2.0 in c:\\users\\cicada\\appdata\\local\\packages\\pythonsoftwarefoundation.python.3.11_qbz5n2kfra8p0\\localcache\\local-packages\\python311\\site-packages (from llama-index-core<0.13.0,>=0.12.0->llama-index) (8.2.3)\n",
      "Requirement already satisfied: tiktoken>=0.3.3 in c:\\users\\cicada\\appdata\\local\\packages\\pythonsoftwarefoundation.python.3.11_qbz5n2kfra8p0\\localcache\\local-packages\\python311\\site-packages (from llama-index-core<0.13.0,>=0.12.0->llama-index) (0.8.0)\n",
      "Requirement already satisfied: tqdm<5.0.0,>=4.66.1 in c:\\users\\cicada\\appdata\\local\\packages\\pythonsoftwarefoundation.python.3.11_qbz5n2kfra8p0\\localcache\\local-packages\\python311\\site-packages (from llama-index-core<0.13.0,>=0.12.0->llama-index) (4.66.1)\n",
      "Requirement already satisfied: typing-extensions>=4.5.0 in c:\\users\\cicada\\appdata\\local\\packages\\pythonsoftwarefoundation.python.3.11_qbz5n2kfra8p0\\localcache\\local-packages\\python311\\site-packages (from llama-index-core<0.13.0,>=0.12.0->llama-index) (4.12.2)\n",
      "Requirement already satisfied: typing-inspect>=0.8.0 in c:\\users\\cicada\\appdata\\local\\packages\\pythonsoftwarefoundation.python.3.11_qbz5n2kfra8p0\\localcache\\local-packages\\python311\\site-packages (from llama-index-core<0.13.0,>=0.12.0->llama-index) (0.9.0)\n",
      "Requirement already satisfied: wrapt in c:\\users\\cicada\\appdata\\local\\packages\\pythonsoftwarefoundation.python.3.11_qbz5n2kfra8p0\\localcache\\local-packages\\python311\\site-packages (from llama-index-core<0.13.0,>=0.12.0->llama-index) (1.14.1)\n",
      "Requirement already satisfied: aiosignal>=1.1.2 in c:\\users\\cicada\\appdata\\local\\packages\\pythonsoftwarefoundation.python.3.11_qbz5n2kfra8p0\\localcache\\local-packages\\python311\\site-packages (from aiohttp->llama-index-llms-sambanovacloud>=0.3) (1.3.1)\n",
      "Requirement already satisfied: attrs>=17.3.0 in c:\\users\\cicada\\appdata\\local\\packages\\pythonsoftwarefoundation.python.3.11_qbz5n2kfra8p0\\localcache\\local-packages\\python311\\site-packages (from aiohttp->llama-index-llms-sambanovacloud>=0.3) (23.1.0)\n",
      "Requirement already satisfied: frozenlist>=1.1.1 in c:\\users\\cicada\\appdata\\local\\packages\\pythonsoftwarefoundation.python.3.11_qbz5n2kfra8p0\\localcache\\local-packages\\python311\\site-packages (from aiohttp->llama-index-llms-sambanovacloud>=0.3) (1.4.0)\n",
      "Requirement already satisfied: multidict<7.0,>=4.5 in c:\\users\\cicada\\appdata\\local\\packages\\pythonsoftwarefoundation.python.3.11_qbz5n2kfra8p0\\localcache\\local-packages\\python311\\site-packages (from aiohttp->llama-index-llms-sambanovacloud>=0.3) (6.0.4)\n",
      "Requirement already satisfied: yarl<2.0,>=1.0 in c:\\users\\cicada\\appdata\\local\\packages\\pythonsoftwarefoundation.python.3.11_qbz5n2kfra8p0\\localcache\\local-packages\\python311\\site-packages (from aiohttp->llama-index-llms-sambanovacloud>=0.3) (1.9.2)\n",
      "Collecting llama-cloud>=0.1.5 (from llama-index-indices-managed-llama-cloud>=0.4.0->llama-index)\n",
      "  Using cached llama_cloud-0.1.5-py3-none-any.whl.metadata (763 bytes)\n",
      "Requirement already satisfied: pandas in c:\\users\\cicada\\appdata\\local\\packages\\pythonsoftwarefoundation.python.3.11_qbz5n2kfra8p0\\localcache\\local-packages\\python311\\site-packages (from llama-index-legacy<0.10.0,>=0.9.48->llama-index) (2.1.2)\n",
      "Requirement already satisfied: beautifulsoup4<5.0.0,>=4.12.3 in c:\\users\\cicada\\appdata\\local\\packages\\pythonsoftwarefoundation.python.3.11_qbz5n2kfra8p0\\localcache\\local-packages\\python311\\site-packages (from llama-index-readers-file<0.5.0,>=0.4.0->llama-index) (4.12.3)\n",
      "Collecting pypdf<6.0.0,>=5.1.0 (from llama-index-readers-file<0.5.0,>=0.4.0->llama-index)\n",
      "  Downloading pypdf-5.1.0-py3-none-any.whl.metadata (7.2 kB)\n",
      "Requirement already satisfied: striprtf<0.0.27,>=0.0.26 in c:\\users\\cicada\\appdata\\local\\packages\\pythonsoftwarefoundation.python.3.11_qbz5n2kfra8p0\\localcache\\local-packages\\python311\\site-packages (from llama-index-readers-file<0.5.0,>=0.4.0->llama-index) (0.0.26)\n",
      "Collecting llama-parse>=0.5.0 (from llama-index-readers-llama-parse>=0.4.0->llama-index)\n",
      "  Using cached llama_parse-0.5.14-py3-none-any.whl.metadata (6.9 kB)\n",
      "Requirement already satisfied: click in c:\\users\\cicada\\appdata\\local\\packages\\pythonsoftwarefoundation.python.3.11_qbz5n2kfra8p0\\localcache\\local-packages\\python311\\site-packages (from nltk>3.8.1->llama-index) (8.1.7)\n",
      "Requirement already satisfied: joblib in c:\\users\\cicada\\appdata\\local\\packages\\pythonsoftwarefoundation.python.3.11_qbz5n2kfra8p0\\localcache\\local-packages\\python311\\site-packages (from nltk>3.8.1->llama-index) (1.3.2)\n",
      "Requirement already satisfied: regex>=2021.8.3 in c:\\users\\cicada\\appdata\\local\\packages\\pythonsoftwarefoundation.python.3.11_qbz5n2kfra8p0\\localcache\\local-packages\\python311\\site-packages (from nltk>3.8.1->llama-index) (2023.10.3)\n",
      "Requirement already satisfied: soupsieve>1.2 in c:\\users\\cicada\\appdata\\local\\packages\\pythonsoftwarefoundation.python.3.11_qbz5n2kfra8p0\\localcache\\local-packages\\python311\\site-packages (from beautifulsoup4<5.0.0,>=4.12.3->llama-index-readers-file<0.5.0,>=0.4.0->llama-index) (2.5)\n",
      "Requirement already satisfied: anyio in c:\\users\\cicada\\appdata\\local\\packages\\pythonsoftwarefoundation.python.3.11_qbz5n2kfra8p0\\localcache\\local-packages\\python311\\site-packages (from httpx->llama-index-core<0.13.0,>=0.12.0->llama-index) (3.7.1)\n",
      "Requirement already satisfied: certifi in c:\\users\\cicada\\appdata\\local\\packages\\pythonsoftwarefoundation.python.3.11_qbz5n2kfra8p0\\localcache\\local-packages\\python311\\site-packages (from httpx->llama-index-core<0.13.0,>=0.12.0->llama-index) (2023.7.22)\n",
      "Requirement already satisfied: httpcore==1.* in c:\\users\\cicada\\appdata\\local\\packages\\pythonsoftwarefoundation.python.3.11_qbz5n2kfra8p0\\localcache\\local-packages\\python311\\site-packages (from httpx->llama-index-core<0.13.0,>=0.12.0->llama-index) (1.0.2)\n",
      "Requirement already satisfied: idna in c:\\users\\cicada\\appdata\\local\\packages\\pythonsoftwarefoundation.python.3.11_qbz5n2kfra8p0\\localcache\\local-packages\\python311\\site-packages (from httpx->llama-index-core<0.13.0,>=0.12.0->llama-index) (3.4)\n",
      "Requirement already satisfied: sniffio in c:\\users\\cicada\\appdata\\local\\packages\\pythonsoftwarefoundation.python.3.11_qbz5n2kfra8p0\\localcache\\local-packages\\python311\\site-packages (from httpx->llama-index-core<0.13.0,>=0.12.0->llama-index) (1.3.0)\n",
      "Requirement already satisfied: h11<0.15,>=0.13 in c:\\users\\cicada\\appdata\\local\\packages\\pythonsoftwarefoundation.python.3.11_qbz5n2kfra8p0\\localcache\\local-packages\\python311\\site-packages (from httpcore==1.*->httpx->llama-index-core<0.13.0,>=0.12.0->llama-index) (0.14.0)\n",
      "Requirement already satisfied: colorama in c:\\users\\cicada\\appdata\\local\\packages\\pythonsoftwarefoundation.python.3.11_qbz5n2kfra8p0\\localcache\\local-packages\\python311\\site-packages (from click->nltk>3.8.1->llama-index) (0.4.6)\n",
      "Requirement already satisfied: distro<2,>=1.7.0 in c:\\users\\cicada\\appdata\\local\\packages\\pythonsoftwarefoundation.python.3.11_qbz5n2kfra8p0\\localcache\\local-packages\\python311\\site-packages (from openai>=1.14.0->llama-index-agent-openai<0.5.0,>=0.4.0->llama-index) (1.8.0)\n",
      "Requirement already satisfied: jiter<1,>=0.4.0 in c:\\users\\cicada\\appdata\\local\\packages\\pythonsoftwarefoundation.python.3.11_qbz5n2kfra8p0\\localcache\\local-packages\\python311\\site-packages (from openai>=1.14.0->llama-index-agent-openai<0.5.0,>=0.4.0->llama-index) (0.6.1)\n",
      "Requirement already satisfied: annotated-types>=0.6.0 in c:\\users\\cicada\\appdata\\local\\packages\\pythonsoftwarefoundation.python.3.11_qbz5n2kfra8p0\\localcache\\local-packages\\python311\\site-packages (from pydantic<3.0.0,>=2.7.0->llama-index-core<0.13.0,>=0.12.0->llama-index) (0.6.0)\n",
      "Requirement already satisfied: pydantic-core==2.23.4 in c:\\users\\cicada\\appdata\\local\\packages\\pythonsoftwarefoundation.python.3.11_qbz5n2kfra8p0\\localcache\\local-packages\\python311\\site-packages (from pydantic<3.0.0,>=2.7.0->llama-index-core<0.13.0,>=0.12.0->llama-index) (2.23.4)\n",
      "Requirement already satisfied: charset-normalizer<4,>=2 in c:\\users\\cicada\\appdata\\local\\packages\\pythonsoftwarefoundation.python.3.11_qbz5n2kfra8p0\\localcache\\local-packages\\python311\\site-packages (from requests>=2.31.0->llama-index-core<0.13.0,>=0.12.0->llama-index) (3.3.0)\n",
      "Requirement already satisfied: urllib3<3,>=1.21.1 in c:\\users\\cicada\\appdata\\local\\packages\\pythonsoftwarefoundation.python.3.11_qbz5n2kfra8p0\\localcache\\local-packages\\python311\\site-packages (from requests>=2.31.0->llama-index-core<0.13.0,>=0.12.0->llama-index) (1.26.20)\n",
      "Requirement already satisfied: greenlet!=0.4.17 in c:\\users\\cicada\\appdata\\local\\packages\\pythonsoftwarefoundation.python.3.11_qbz5n2kfra8p0\\localcache\\local-packages\\python311\\site-packages (from SQLAlchemy>=1.4.49->SQLAlchemy[asyncio]>=1.4.49->llama-index-core<0.13.0,>=0.12.0->llama-index) (3.0.1)\n",
      "Requirement already satisfied: mypy-extensions>=0.3.0 in c:\\users\\cicada\\appdata\\local\\packages\\pythonsoftwarefoundation.python.3.11_qbz5n2kfra8p0\\localcache\\local-packages\\python311\\site-packages (from typing-inspect>=0.8.0->llama-index-core<0.13.0,>=0.12.0->llama-index) (1.0.0)\n",
      "Requirement already satisfied: marshmallow<4.0.0,>=3.18.0 in c:\\users\\cicada\\appdata\\local\\packages\\pythonsoftwarefoundation.python.3.11_qbz5n2kfra8p0\\localcache\\local-packages\\python311\\site-packages (from dataclasses-json->llama-index-core<0.13.0,>=0.12.0->llama-index) (3.20.1)\n",
      "Requirement already satisfied: python-dateutil>=2.8.2 in c:\\users\\cicada\\appdata\\local\\packages\\pythonsoftwarefoundation.python.3.11_qbz5n2kfra8p0\\localcache\\local-packages\\python311\\site-packages (from pandas->llama-index-legacy<0.10.0,>=0.9.48->llama-index) (2.8.2)\n",
      "Requirement already satisfied: pytz>=2020.1 in c:\\users\\cicada\\appdata\\local\\packages\\pythonsoftwarefoundation.python.3.11_qbz5n2kfra8p0\\localcache\\local-packages\\python311\\site-packages (from pandas->llama-index-legacy<0.10.0,>=0.9.48->llama-index) (2023.3.post1)\n",
      "Requirement already satisfied: tzdata>=2022.1 in c:\\users\\cicada\\appdata\\local\\packages\\pythonsoftwarefoundation.python.3.11_qbz5n2kfra8p0\\localcache\\local-packages\\python311\\site-packages (from pandas->llama-index-legacy<0.10.0,>=0.9.48->llama-index) (2023.3)\n",
      "Requirement already satisfied: packaging>=17.0 in c:\\users\\cicada\\appdata\\local\\packages\\pythonsoftwarefoundation.python.3.11_qbz5n2kfra8p0\\localcache\\local-packages\\python311\\site-packages (from marshmallow<4.0.0,>=3.18.0->dataclasses-json->llama-index-core<0.13.0,>=0.12.0->llama-index) (23.2)\n",
      "Requirement already satisfied: six>=1.5 in c:\\users\\cicada\\appdata\\local\\packages\\pythonsoftwarefoundation.python.3.11_qbz5n2kfra8p0\\localcache\\local-packages\\python311\\site-packages (from python-dateutil>=2.8.2->pandas->llama-index-legacy<0.10.0,>=0.9.48->llama-index) (1.16.0)\n",
      "Using cached llama_index-0.12.0-py3-none-any.whl (6.8 kB)\n",
      "Using cached llama_index_llms_sambanovacloud-0.4.0-py3-none-any.whl (6.2 kB)\n",
      "Using cached llama_index_agent_openai-0.4.0-py3-none-any.whl (13 kB)\n",
      "Using cached llama_index_cli-0.4.0-py3-none-any.whl (27 kB)\n",
      "Using cached llama_index_core-0.12.0-py3-none-any.whl (1.6 MB)\n",
      "Using cached llama_index_embeddings_openai-0.3.0-py3-none-any.whl (6.1 kB)\n",
      "Using cached llama_index_indices_managed_llama_cloud-0.6.2-py3-none-any.whl (11 kB)\n",
      "Using cached llama_index_legacy-0.9.48.post4-py3-none-any.whl (1.2 MB)\n",
      "Using cached llama_index_llms_openai-0.3.0-py3-none-any.whl (13 kB)\n",
      "Using cached llama_index_multi_modal_llms_openai-0.3.0-py3-none-any.whl (5.9 kB)\n",
      "Using cached llama_index_program_openai-0.3.0-py3-none-any.whl (5.3 kB)\n",
      "Using cached llama_index_question_gen_openai-0.3.0-py3-none-any.whl (2.9 kB)\n",
      "Using cached llama_index_readers_file-0.4.0-py3-none-any.whl (38 kB)\n",
      "Using cached llama_index_readers_llama_parse-0.4.0-py3-none-any.whl (2.5 kB)\n",
      "Using cached llama_cloud-0.1.5-py3-none-any.whl (188 kB)\n",
      "Using cached llama_parse-0.5.14-py3-none-any.whl (13 kB)\n",
      "Downloading pypdf-5.1.0-py3-none-any.whl (297 kB)\n",
      "   ---------------------------------------- 0.0/298.0 kB ? eta -:--:--\n",
      "   ---------------------------------------- 0.0/298.0 kB ? eta -:--:--\n",
      "   - -------------------------------------- 10.2/298.0 kB ? eta -:--:--\n",
      "   - -------------------------------------- 10.2/298.0 kB ? eta -:--:--\n",
      "   ---- ---------------------------------- 30.7/298.0 kB 330.3 kB/s eta 0:00:01\n",
      "   ----- --------------------------------- 41.0/298.0 kB 281.8 kB/s eta 0:00:01\n",
      "   -------------- ----------------------- 112.6/298.0 kB 547.6 kB/s eta 0:00:01\n",
      "   ---------------------------- --------- 225.3/298.0 kB 981.9 kB/s eta 0:00:01\n",
      "   ---------------------------------------  297.0/298.0 kB 1.1 MB/s eta 0:00:01\n",
      "   ---------------------------------------- 298.0/298.0 kB 1.0 MB/s eta 0:00:00\n",
      "Installing collected packages: pypdf, llama-index-core, llama-cloud, llama-parse, llama-index-readers-file, llama-index-llms-sambanovacloud, llama-index-llms-openai, llama-index-legacy, llama-index-indices-managed-llama-cloud, llama-index-embeddings-openai, llama-index-readers-llama-parse, llama-index-multi-modal-llms-openai, llama-index-cli, llama-index-agent-openai, llama-index-program-openai, llama-index-question-gen-openai, llama-index\n",
      "  Attempting uninstall: pypdf\n",
      "    Found existing installation: pypdf 4.3.1\n",
      "    Uninstalling pypdf-4.3.1:\n",
      "      Successfully uninstalled pypdf-4.3.1\n",
      "  Attempting uninstall: llama-index-llms-sambanovacloud\n",
      "    Found existing installation: llama-index-llms-sambanovacloud 0.3.1\n",
      "    Uninstalling llama-index-llms-sambanovacloud-0.3.1:\n",
      "      Successfully uninstalled llama-index-llms-sambanovacloud-0.3.1\n",
      "Successfully installed llama-cloud-0.1.5 llama-index-0.12.0 llama-index-agent-openai-0.4.0 llama-index-cli-0.4.0 llama-index-core-0.12.0 llama-index-embeddings-openai-0.3.0 llama-index-indices-managed-llama-cloud-0.6.2 llama-index-legacy-0.9.48.post4 llama-index-llms-openai-0.3.0 llama-index-llms-sambanovacloud-0.4.0 llama-index-multi-modal-llms-openai-0.3.0 llama-index-program-openai-0.3.0 llama-index-question-gen-openai-0.3.0 llama-index-readers-file-0.4.0 llama-index-readers-llama-parse-0.4.0 llama-parse-0.5.14 pypdf-5.1.0\n"
     ]
    },
    {
     "name": "stderr",
     "output_type": "stream",
     "text": [
      "  WARNING: The script llama-parse.exe is installed in 'C:\\Users\\cicada\\AppData\\Local\\Packages\\PythonSoftwareFoundation.Python.3.11_qbz5n2kfra8p0\\LocalCache\\local-packages\\Python311\\Scripts' which is not on PATH.\n",
      "  Consider adding this directory to PATH or, if you prefer to suppress this warning, use --no-warn-script-location.\n",
      "  WARNING: The script llamaindex-legacy-cli.exe is installed in 'C:\\Users\\cicada\\AppData\\Local\\Packages\\PythonSoftwareFoundation.Python.3.11_qbz5n2kfra8p0\\LocalCache\\local-packages\\Python311\\Scripts' which is not on PATH.\n",
      "  Consider adding this directory to PATH or, if you prefer to suppress this warning, use --no-warn-script-location.\n",
      "  WARNING: The script llamaindex-cli.exe is installed in 'C:\\Users\\cicada\\AppData\\Local\\Packages\\PythonSoftwareFoundation.Python.3.11_qbz5n2kfra8p0\\LocalCache\\local-packages\\Python311\\Scripts' which is not on PATH.\n",
      "  Consider adding this directory to PATH or, if you prefer to suppress this warning, use --no-warn-script-location.\n",
      "  WARNING: The script llamaindex-cli.exe is installed in 'C:\\Users\\cicada\\AppData\\Local\\Packages\\PythonSoftwareFoundation.Python.3.11_qbz5n2kfra8p0\\LocalCache\\local-packages\\Python311\\Scripts' which is not on PATH.\n",
      "  Consider adding this directory to PATH or, if you prefer to suppress this warning, use --no-warn-script-location.\n",
      "ERROR: pip's dependency resolver does not currently take into account all the packages that are installed. This behaviour is the source of the following dependency conflicts.\n",
      "pymemgpt 0.2.7 requires httpx<0.26.0,>=0.25.2, but you have httpx 0.27.2 which is incompatible.\n",
      "pymemgpt 0.2.7 requires llama-index==0.9.13, but you have llama-index 0.12.0 which is incompatible.\n",
      "pymemgpt 0.2.7 requires pypdf<4.0.0,>=3.17.1, but you have pypdf 5.1.0 which is incompatible.\n",
      "pymemgpt 0.2.7 requires tiktoken<0.6.0,>=0.5.1, but you have tiktoken 0.8.0 which is incompatible.\n",
      "pymemgpt 0.2.7 requires websockets<13.0,>=12.0, but you have websockets 10.4 which is incompatible.\n"
     ]
    }
   ],
   "source": [
    "!pip install llama-index \"llama-index-llms-sambanovacloud>=0.3\" sseclient-py"
   ]
  },
  {
   "cell_type": "code",
   "execution_count": 5,
   "id": "9ec44b52-52e5-4c54-b710-4ddfa0a6dad6",
   "metadata": {},
   "outputs": [
    {
     "ename": "ModuleNotFoundError",
     "evalue": "No module named 'llama_index.llms.sambanova'",
     "output_type": "error",
     "traceback": [
      "\u001b[1;31m---------------------------------------------------------------------------\u001b[0m",
      "\u001b[1;31mModuleNotFoundError\u001b[0m                       Traceback (most recent call last)",
      "Cell \u001b[1;32mIn[5], line 1\u001b[0m\n\u001b[1;32m----> 1\u001b[0m \u001b[38;5;28;01mfrom\u001b[39;00m \u001b[38;5;21;01mllama_index\u001b[39;00m\u001b[38;5;21;01m.\u001b[39;00m\u001b[38;5;21;01mllms\u001b[39;00m\u001b[38;5;21;01m.\u001b[39;00m\u001b[38;5;21;01msambanova\u001b[39;00m \u001b[38;5;28;01mimport\u001b[39;00m SambaNovaCloud\n\u001b[0;32m      2\u001b[0m \u001b[38;5;28;01mfrom\u001b[39;00m \u001b[38;5;21;01mllama_index\u001b[39;00m\u001b[38;5;21;01m.\u001b[39;00m\u001b[38;5;21;01mcore\u001b[39;00m\u001b[38;5;21;01m.\u001b[39;00m\u001b[38;5;21;01mbase\u001b[39;00m\u001b[38;5;21;01m.\u001b[39;00m\u001b[38;5;21;01mllms\u001b[39;00m\u001b[38;5;21;01m.\u001b[39;00m\u001b[38;5;21;01mtypes\u001b[39;00m \u001b[38;5;28;01mimport\u001b[39;00m (\n\u001b[0;32m      3\u001b[0m     ChatMessage,\n\u001b[0;32m      4\u001b[0m     MessageRole,\n\u001b[0;32m      5\u001b[0m )\n\u001b[0;32m      7\u001b[0m llm \u001b[38;5;241m=\u001b[39m SambaNovaCloud(\n\u001b[0;32m      8\u001b[0m     model\u001b[38;5;241m=\u001b[39m\u001b[38;5;124m\"\u001b[39m\u001b[38;5;124mLlama-3.2-90B-Vision-Instruct\u001b[39m\u001b[38;5;124m\"\u001b[39m,\n\u001b[0;32m      9\u001b[0m     sambanova_api_key\u001b[38;5;241m=\u001b[39m\u001b[38;5;124m\"\u001b[39m\u001b[38;5;124m\"\u001b[39m,\n\u001b[0;32m     10\u001b[0m     max_tokens\u001b[38;5;241m=\u001b[39m\u001b[38;5;241m1024\u001b[39m,\n\u001b[0;32m     11\u001b[0m     temperature\u001b[38;5;241m=\u001b[39m\u001b[38;5;241m0.7\u001b[39m,\n\u001b[0;32m     12\u001b[0m )\n",
      "\u001b[1;31mModuleNotFoundError\u001b[0m: No module named 'llama_index.llms.sambanova'"
     ]
    }
   ],
   "source": [
    "from llama_index.llms.sambanova import SambaNovaCloud\n",
    "from llama_index.core.base.llms.types import (\n",
    "    ChatMessage,\n",
    "    MessageRole,\n",
    ")\n",
    "\n",
    "llm = SambaNovaCloud(\n",
    "    model=\"Llama-3.2-90B-Vision-Instruct\",\n",
    "    sambanova_api_key=\"\",\n",
    "    max_tokens=1024,\n",
    "    temperature=0.7,\n",
    ")\n",
    "\n",
    "system_msg = ChatMessage(\n",
    "    role=MessageRole.SYSTEM,\n",
    "    content=\"R.Prompt\",\n",
    ")\n",
    "user_msg = ChatMessage(role=MessageRole.USER, content=\"input text\")\n",
    "\n",
    "messages = [\n",
    "    system_msg,\n",
    "    user_msg,\n",
    "]"
   ]
  },
  {
   "cell_type": "code",
   "execution_count": 6,
   "id": "1edace07-ee2e-40e5-8834-d6ff00d3527d",
   "metadata": {},
   "outputs": [
    {
     "ename": "NameError",
     "evalue": "name 'llm' is not defined",
     "output_type": "error",
     "traceback": [
      "\u001b[1;31m---------------------------------------------------------------------------\u001b[0m",
      "\u001b[1;31mNameError\u001b[0m                                 Traceback (most recent call last)",
      "Cell \u001b[1;32mIn[6], line 1\u001b[0m\n\u001b[1;32m----> 1\u001b[0m ai_msg \u001b[38;5;241m=\u001b[39m \u001b[43mllm\u001b[49m\u001b[38;5;241m.\u001b[39mchat(messages)\n\u001b[0;32m      2\u001b[0m response_text \u001b[38;5;241m=\u001b[39m ai_msg\u001b[38;5;241m.\u001b[39mmessage\u001b[38;5;241m.\u001b[39mcontent  \u001b[38;5;66;03m# основной текст\u001b[39;00m\n\u001b[0;32m      3\u001b[0m additional_data \u001b[38;5;241m=\u001b[39m ai_msg\u001b[38;5;241m.\u001b[39mmessage\u001b[38;5;241m.\u001b[39madditional_kwargs  \u001b[38;5;66;03m# дополнительные данные для пользователя\u001b[39;00m\n",
      "\u001b[1;31mNameError\u001b[0m: name 'llm' is not defined"
     ]
    }
   ],
   "source": [
    "ai_msg = llm.chat(messages)\n",
    "response_text = ai_msg.message.content  # основной текст\n",
    "additional_data = ai_msg.message.additional_kwargs  # дополнительные данные для пользователя"
   ]
  },
  {
   "cell_type": "code",
   "execution_count": 7,
   "id": "cc7a425e-c238-4d9f-9690-ce3446482cf8",
   "metadata": {
    "scrolled": true
   },
   "outputs": [
    {
     "ename": "NameError",
     "evalue": "name 'response_text' is not defined",
     "output_type": "error",
     "traceback": [
      "\u001b[1;31m---------------------------------------------------------------------------\u001b[0m",
      "\u001b[1;31mNameError\u001b[0m                                 Traceback (most recent call last)",
      "Cell \u001b[1;32mIn[7], line 1\u001b[0m\n\u001b[1;32m----> 1\u001b[0m \u001b[38;5;28mprint\u001b[39m(\u001b[43mresponse_text\u001b[49m)\n",
      "\u001b[1;31mNameError\u001b[0m: name 'response_text' is not defined"
     ]
    }
   ],
   "source": [
    "print(response_text)"
   ]
  },
  {
   "cell_type": "code",
   "execution_count": 8,
   "id": "61511fa6-0c1d-4f6a-8e6a-bc5e8a1d6de4",
   "metadata": {
    "scrolled": true
   },
   "outputs": [
    {
     "ename": "NameError",
     "evalue": "name 'additional_data' is not defined",
     "output_type": "error",
     "traceback": [
      "\u001b[1;31m---------------------------------------------------------------------------\u001b[0m",
      "\u001b[1;31mNameError\u001b[0m                                 Traceback (most recent call last)",
      "Cell \u001b[1;32mIn[8], line 1\u001b[0m\n\u001b[1;32m----> 1\u001b[0m \u001b[38;5;28mprint\u001b[39m(\u001b[43madditional_data\u001b[49m)\n",
      "\u001b[1;31mNameError\u001b[0m: name 'additional_data' is not defined"
     ]
    }
   ],
   "source": [
    "print(additional_data)"
   ]
  }
 ],
 "metadata": {
  "kernelspec": {
   "display_name": "Python 3 (ipykernel)",
   "language": "python",
   "name": "python3"
  },
  "language_info": {
   "codemirror_mode": {
    "name": "ipython",
    "version": 3
   },
   "file_extension": ".py",
   "mimetype": "text/x-python",
   "name": "python",
   "nbconvert_exporter": "python",
   "pygments_lexer": "ipython3",
   "version": "3.11.9"
  }
 },
 "nbformat": 4,
 "nbformat_minor": 5
}
