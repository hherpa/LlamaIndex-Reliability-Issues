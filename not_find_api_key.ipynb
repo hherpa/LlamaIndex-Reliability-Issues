{
 "cells": [
  {
   "cell_type": "code",
   "execution_count": 1,
   "id": "ba253b7e-2a2d-479b-896d-55d5b8bae2bd",
   "metadata": {
    "collapsed": true,
    "jupyter": {
     "outputs_hidden": true
    }
   },
   "outputs": [
    {
     "name": "stdout",
     "output_type": "stream",
     "text": [
      "Defaulting to user installation because normal site-packages is not writeable\n",
      "Collecting llama-index\n",
      "  Using cached llama_index-0.11.21-py3-none-any.whl.metadata (11 kB)\n",
      "Collecting llama-index-llms-fireworks\n",
      "  Using cached llama_index_llms_fireworks-0.2.2-py3-none-any.whl.metadata (3.6 kB)\n",
      "Collecting llama-index-agent-openai<0.4.0,>=0.3.4 (from llama-index)\n",
      "  Using cached llama_index_agent_openai-0.3.4-py3-none-any.whl.metadata (728 bytes)\n",
      "Collecting llama-index-cli<0.4.0,>=0.3.1 (from llama-index)\n",
      "  Using cached llama_index_cli-0.3.1-py3-none-any.whl.metadata (1.5 kB)\n",
      "Collecting llama-index-core<0.12.0,>=0.11.20 (from llama-index)\n",
      "  Using cached llama_index_core-0.11.21-py3-none-any.whl.metadata (2.4 kB)\n",
      "Collecting llama-index-embeddings-openai<0.3.0,>=0.2.4 (from llama-index)\n",
      "  Using cached llama_index_embeddings_openai-0.2.5-py3-none-any.whl.metadata (686 bytes)\n",
      "Collecting llama-index-indices-managed-llama-cloud>=0.3.0 (from llama-index)\n",
      "  Using cached llama_index_indices_managed_llama_cloud-0.4.0-py3-none-any.whl.metadata (3.8 kB)\n",
      "Collecting llama-index-legacy<0.10.0,>=0.9.48 (from llama-index)\n",
      "  Using cached llama_index_legacy-0.9.48.post3-py3-none-any.whl.metadata (8.5 kB)\n",
      "Collecting llama-index-llms-openai<0.3.0,>=0.2.10 (from llama-index)\n",
      "  Using cached llama_index_llms_openai-0.2.16-py3-none-any.whl.metadata (3.3 kB)\n",
      "Collecting llama-index-multi-modal-llms-openai<0.3.0,>=0.2.0 (from llama-index)\n",
      "  Using cached llama_index_multi_modal_llms_openai-0.2.3-py3-none-any.whl.metadata (729 bytes)\n",
      "Collecting llama-index-program-openai<0.3.0,>=0.2.0 (from llama-index)\n",
      "  Using cached llama_index_program_openai-0.2.0-py3-none-any.whl.metadata (766 bytes)\n",
      "Collecting llama-index-question-gen-openai<0.3.0,>=0.2.0 (from llama-index)\n",
      "  Using cached llama_index_question_gen_openai-0.2.0-py3-none-any.whl.metadata (785 bytes)\n",
      "Collecting llama-index-readers-file<0.3.0,>=0.2.0 (from llama-index)\n",
      "  Using cached llama_index_readers_file-0.2.2-py3-none-any.whl.metadata (5.4 kB)\n",
      "Collecting llama-index-readers-llama-parse>=0.3.0 (from llama-index)\n",
      "  Using cached llama_index_readers_llama_parse-0.3.0-py3-none-any.whl.metadata (3.5 kB)\n",
      "Requirement already satisfied: nltk>3.8.1 in c:\\users\\akidra\\appdata\\roaming\\python\\python311\\site-packages (from llama-index) (3.9.1)\n",
      "Requirement already satisfied: openai>=1.14.0 in c:\\users\\akidra\\appdata\\roaming\\python\\python311\\site-packages (from llama-index-agent-openai<0.4.0,>=0.3.4->llama-index) (1.53.0)\n",
      "Requirement already satisfied: PyYAML>=6.0.1 in c:\\users\\akidra\\appdata\\roaming\\python\\python311\\site-packages (from llama-index-core<0.12.0,>=0.11.20->llama-index) (6.0.1)\n",
      "Requirement already satisfied: SQLAlchemy>=1.4.49 in c:\\users\\akidra\\appdata\\roaming\\python\\python311\\site-packages (from SQLAlchemy[asyncio]>=1.4.49->llama-index-core<0.12.0,>=0.11.20->llama-index) (2.0.23)\n",
      "Requirement already satisfied: aiohttp<4.0.0,>=3.8.6 in c:\\users\\akidra\\appdata\\roaming\\python\\python311\\site-packages (from llama-index-core<0.12.0,>=0.11.20->llama-index) (3.9.1)\n",
      "Requirement already satisfied: dataclasses-json in c:\\users\\akidra\\appdata\\roaming\\python\\python311\\site-packages (from llama-index-core<0.12.0,>=0.11.20->llama-index) (0.6.3)\n",
      "Requirement already satisfied: deprecated>=1.2.9.3 in c:\\users\\akidra\\appdata\\roaming\\python\\python311\\site-packages (from llama-index-core<0.12.0,>=0.11.20->llama-index) (1.2.14)\n",
      "Requirement already satisfied: dirtyjson<2.0.0,>=1.0.8 in c:\\users\\akidra\\appdata\\roaming\\python\\python311\\site-packages (from llama-index-core<0.12.0,>=0.11.20->llama-index) (1.0.8)\n",
      "Requirement already satisfied: fsspec>=2023.5.0 in c:\\users\\akidra\\appdata\\roaming\\python\\python311\\site-packages (from llama-index-core<0.12.0,>=0.11.20->llama-index) (2023.10.0)\n",
      "Requirement already satisfied: httpx in c:\\users\\akidra\\appdata\\roaming\\python\\python311\\site-packages (from llama-index-core<0.12.0,>=0.11.20->llama-index) (0.25.2)\n",
      "Requirement already satisfied: nest-asyncio<2.0.0,>=1.5.8 in c:\\users\\akidra\\appdata\\roaming\\python\\python311\\site-packages (from llama-index-core<0.12.0,>=0.11.20->llama-index) (1.5.8)\n",
      "Requirement already satisfied: networkx>=3.0 in c:\\users\\akidra\\appdata\\roaming\\python\\python311\\site-packages (from llama-index-core<0.12.0,>=0.11.20->llama-index) (3.0)\n",
      "Requirement already satisfied: numpy<2.0.0 in c:\\users\\akidra\\appdata\\roaming\\python\\python311\\site-packages (from llama-index-core<0.12.0,>=0.11.20->llama-index) (1.26.2)\n",
      "Requirement already satisfied: pillow>=9.0.0 in c:\\users\\akidra\\appdata\\roaming\\python\\python311\\site-packages (from llama-index-core<0.12.0,>=0.11.20->llama-index) (10.1.0)\n",
      "Requirement already satisfied: pydantic<3.0.0,>=2.7.0 in c:\\users\\akidra\\appdata\\roaming\\python\\python311\\site-packages (from llama-index-core<0.12.0,>=0.11.20->llama-index) (2.7.1)\n",
      "Requirement already satisfied: requests>=2.31.0 in c:\\users\\akidra\\appdata\\roaming\\python\\python311\\site-packages (from llama-index-core<0.12.0,>=0.11.20->llama-index) (2.31.0)\n",
      "Requirement already satisfied: tenacity!=8.4.0,<9.0.0,>=8.2.0 in c:\\users\\akidra\\appdata\\roaming\\python\\python311\\site-packages (from llama-index-core<0.12.0,>=0.11.20->llama-index) (8.2.3)\n",
      "Requirement already satisfied: tiktoken>=0.3.3 in c:\\users\\akidra\\appdata\\roaming\\python\\python311\\site-packages (from llama-index-core<0.12.0,>=0.11.20->llama-index) (0.5.2)\n",
      "Requirement already satisfied: tqdm<5.0.0,>=4.66.1 in c:\\users\\akidra\\appdata\\roaming\\python\\python311\\site-packages (from llama-index-core<0.12.0,>=0.11.20->llama-index) (4.66.1)\n",
      "Requirement already satisfied: typing-extensions>=4.5.0 in c:\\users\\akidra\\appdata\\roaming\\python\\python311\\site-packages (from llama-index-core<0.12.0,>=0.11.20->llama-index) (4.12.2)\n",
      "Requirement already satisfied: typing-inspect>=0.8.0 in c:\\users\\akidra\\appdata\\roaming\\python\\python311\\site-packages (from llama-index-core<0.12.0,>=0.11.20->llama-index) (0.9.0)\n",
      "Requirement already satisfied: wrapt in c:\\users\\akidra\\appdata\\roaming\\python\\python311\\site-packages (from llama-index-core<0.12.0,>=0.11.20->llama-index) (1.14.1)\n",
      "Collecting llama-cloud>=0.0.11 (from llama-index-indices-managed-llama-cloud>=0.3.0->llama-index)\n",
      "  Using cached llama_cloud-0.1.4-py3-none-any.whl.metadata (814 bytes)\n",
      "Requirement already satisfied: pandas in c:\\users\\akidra\\appdata\\roaming\\python\\python311\\site-packages (from llama-index-legacy<0.10.0,>=0.9.48->llama-index) (2.1.1)\n",
      "Requirement already satisfied: beautifulsoup4<5.0.0,>=4.12.3 in c:\\users\\akidra\\appdata\\roaming\\python\\python311\\site-packages (from llama-index-readers-file<0.3.0,>=0.2.0->llama-index) (4.12.3)\n",
      "Requirement already satisfied: pypdf<5.0.0,>=4.0.1 in c:\\users\\akidra\\appdata\\roaming\\python\\python311\\site-packages (from llama-index-readers-file<0.3.0,>=0.2.0->llama-index) (4.3.1)\n",
      "Requirement already satisfied: striprtf<0.0.27,>=0.0.26 in c:\\users\\akidra\\appdata\\roaming\\python\\python311\\site-packages (from llama-index-readers-file<0.3.0,>=0.2.0->llama-index) (0.0.26)\n",
      "Collecting llama-parse>=0.5.0 (from llama-index-readers-llama-parse>=0.3.0->llama-index)\n",
      "  Using cached llama_parse-0.5.13-py3-none-any.whl.metadata (6.9 kB)\n",
      "Requirement already satisfied: click in c:\\users\\akidra\\appdata\\roaming\\python\\python311\\site-packages (from nltk>3.8.1->llama-index) (8.1.7)\n",
      "Requirement already satisfied: joblib in c:\\users\\akidra\\appdata\\roaming\\python\\python311\\site-packages (from nltk>3.8.1->llama-index) (1.3.2)\n",
      "Requirement already satisfied: regex>=2021.8.3 in c:\\users\\akidra\\appdata\\roaming\\python\\python311\\site-packages (from nltk>3.8.1->llama-index) (2023.10.3)\n",
      "Requirement already satisfied: attrs>=17.3.0 in c:\\users\\akidra\\appdata\\roaming\\python\\python311\\site-packages (from aiohttp<4.0.0,>=3.8.6->llama-index-core<0.12.0,>=0.11.20->llama-index) (22.2.0)\n",
      "Requirement already satisfied: multidict<7.0,>=4.5 in c:\\users\\akidra\\appdata\\roaming\\python\\python311\\site-packages (from aiohttp<4.0.0,>=3.8.6->llama-index-core<0.12.0,>=0.11.20->llama-index) (6.0.4)\n",
      "Requirement already satisfied: yarl<2.0,>=1.0 in c:\\users\\akidra\\appdata\\roaming\\python\\python311\\site-packages (from aiohttp<4.0.0,>=3.8.6->llama-index-core<0.12.0,>=0.11.20->llama-index) (1.9.4)\n",
      "Requirement already satisfied: frozenlist>=1.1.1 in c:\\users\\akidra\\appdata\\roaming\\python\\python311\\site-packages (from aiohttp<4.0.0,>=3.8.6->llama-index-core<0.12.0,>=0.11.20->llama-index) (1.4.0)\n",
      "Requirement already satisfied: aiosignal>=1.1.2 in c:\\users\\akidra\\appdata\\roaming\\python\\python311\\site-packages (from aiohttp<4.0.0,>=3.8.6->llama-index-core<0.12.0,>=0.11.20->llama-index) (1.3.1)\n",
      "Requirement already satisfied: soupsieve>1.2 in c:\\users\\akidra\\appdata\\roaming\\python\\python311\\site-packages (from beautifulsoup4<5.0.0,>=4.12.3->llama-index-readers-file<0.3.0,>=0.2.0->llama-index) (2.4)\n",
      "Requirement already satisfied: anyio in c:\\users\\akidra\\appdata\\roaming\\python\\python311\\site-packages (from httpx->llama-index-core<0.12.0,>=0.11.20->llama-index) (4.6.2.post1)\n",
      "Requirement already satisfied: certifi in c:\\users\\akidra\\appdata\\roaming\\python\\python311\\site-packages (from httpx->llama-index-core<0.12.0,>=0.11.20->llama-index) (2023.7.22)\n",
      "Requirement already satisfied: httpcore==1.* in c:\\users\\akidra\\appdata\\roaming\\python\\python311\\site-packages (from httpx->llama-index-core<0.12.0,>=0.11.20->llama-index) (1.0.6)\n",
      "Requirement already satisfied: idna in c:\\users\\akidra\\appdata\\roaming\\python\\python311\\site-packages (from httpx->llama-index-core<0.12.0,>=0.11.20->llama-index) (3.4)\n",
      "Requirement already satisfied: sniffio in c:\\users\\akidra\\appdata\\roaming\\python\\python311\\site-packages (from httpx->llama-index-core<0.12.0,>=0.11.20->llama-index) (1.3.0)\n",
      "Requirement already satisfied: h11<0.15,>=0.13 in c:\\users\\akidra\\appdata\\roaming\\python\\python311\\site-packages (from httpcore==1.*->httpx->llama-index-core<0.12.0,>=0.11.20->llama-index) (0.14.0)\n",
      "Requirement already satisfied: colorama in c:\\users\\akidra\\appdata\\roaming\\python\\python311\\site-packages (from click->nltk>3.8.1->llama-index) (0.4.6)\n",
      "Requirement already satisfied: distro<2,>=1.7.0 in c:\\users\\akidra\\appdata\\roaming\\python\\python311\\site-packages (from openai>=1.14.0->llama-index-agent-openai<0.4.0,>=0.3.4->llama-index) (1.8.0)\n",
      "Requirement already satisfied: jiter<1,>=0.4.0 in c:\\users\\akidra\\appdata\\roaming\\python\\python311\\site-packages (from openai>=1.14.0->llama-index-agent-openai<0.4.0,>=0.3.4->llama-index) (0.7.0)\n",
      "Requirement already satisfied: annotated-types>=0.4.0 in c:\\users\\akidra\\appdata\\roaming\\python\\python311\\site-packages (from pydantic<3.0.0,>=2.7.0->llama-index-core<0.12.0,>=0.11.20->llama-index) (0.6.0)\n",
      "Requirement already satisfied: pydantic-core==2.18.2 in c:\\users\\akidra\\appdata\\roaming\\python\\python311\\site-packages (from pydantic<3.0.0,>=2.7.0->llama-index-core<0.12.0,>=0.11.20->llama-index) (2.18.2)\n",
      "Requirement already satisfied: charset-normalizer<4,>=2 in c:\\users\\akidra\\appdata\\roaming\\python\\python311\\site-packages (from requests>=2.31.0->llama-index-core<0.12.0,>=0.11.20->llama-index) (3.2.0)\n",
      "Requirement already satisfied: urllib3<3,>=1.21.1 in c:\\users\\akidra\\appdata\\roaming\\python\\python311\\site-packages (from requests>=2.31.0->llama-index-core<0.12.0,>=0.11.20->llama-index) (1.26.18)\n",
      "Requirement already satisfied: greenlet!=0.4.17 in c:\\users\\akidra\\appdata\\roaming\\python\\python311\\site-packages (from SQLAlchemy>=1.4.49->SQLAlchemy[asyncio]>=1.4.49->llama-index-core<0.12.0,>=0.11.20->llama-index) (3.0.3)\n",
      "Requirement already satisfied: mypy-extensions>=0.3.0 in c:\\users\\akidra\\appdata\\roaming\\python\\python311\\site-packages (from typing-inspect>=0.8.0->llama-index-core<0.12.0,>=0.11.20->llama-index) (1.0.0)\n",
      "Requirement already satisfied: marshmallow<4.0.0,>=3.18.0 in c:\\users\\akidra\\appdata\\roaming\\python\\python311\\site-packages (from dataclasses-json->llama-index-core<0.12.0,>=0.11.20->llama-index) (3.20.1)\n",
      "Requirement already satisfied: python-dateutil>=2.8.2 in c:\\users\\akidra\\appdata\\roaming\\python\\python311\\site-packages (from pandas->llama-index-legacy<0.10.0,>=0.9.48->llama-index) (2.8.2)\n",
      "Requirement already satisfied: pytz>=2020.1 in c:\\users\\akidra\\appdata\\roaming\\python\\python311\\site-packages (from pandas->llama-index-legacy<0.10.0,>=0.9.48->llama-index) (2023.3.post1)\n",
      "Requirement already satisfied: tzdata>=2022.1 in c:\\users\\akidra\\appdata\\roaming\\python\\python311\\site-packages (from pandas->llama-index-legacy<0.10.0,>=0.9.48->llama-index) (2023.3)\n",
      "Requirement already satisfied: packaging>=17.0 in c:\\users\\akidra\\appdata\\roaming\\python\\python311\\site-packages (from marshmallow<4.0.0,>=3.18.0->dataclasses-json->llama-index-core<0.12.0,>=0.11.20->llama-index) (23.2)\n",
      "Requirement already satisfied: six>=1.5 in c:\\users\\akidra\\appdata\\roaming\\python\\python311\\site-packages (from python-dateutil>=2.8.2->pandas->llama-index-legacy<0.10.0,>=0.9.48->llama-index) (1.16.0)\n",
      "Using cached llama_index-0.11.21-py3-none-any.whl (6.8 kB)\n",
      "Using cached llama_index_llms_fireworks-0.2.2-py3-none-any.whl (5.4 kB)\n",
      "Using cached llama_index_agent_openai-0.3.4-py3-none-any.whl (13 kB)\n",
      "Using cached llama_index_cli-0.3.1-py3-none-any.whl (27 kB)\n",
      "Using cached llama_index_core-0.11.21-py3-none-any.whl (1.6 MB)\n",
      "Using cached llama_index_embeddings_openai-0.2.5-py3-none-any.whl (6.1 kB)\n",
      "Using cached llama_index_indices_managed_llama_cloud-0.4.0-py3-none-any.whl (10 kB)\n",
      "Using cached llama_index_legacy-0.9.48.post3-py3-none-any.whl (1.2 MB)\n",
      "Using cached llama_index_llms_openai-0.2.16-py3-none-any.whl (13 kB)\n",
      "Using cached llama_index_multi_modal_llms_openai-0.2.3-py3-none-any.whl (5.9 kB)\n",
      "Using cached llama_index_program_openai-0.2.0-py3-none-any.whl (5.3 kB)\n",
      "Using cached llama_index_question_gen_openai-0.2.0-py3-none-any.whl (2.9 kB)\n",
      "Using cached llama_index_readers_file-0.2.2-py3-none-any.whl (38 kB)\n",
      "Using cached llama_index_readers_llama_parse-0.3.0-py3-none-any.whl (2.5 kB)\n",
      "Using cached llama_cloud-0.1.4-py3-none-any.whl (176 kB)\n",
      "Using cached llama_parse-0.5.13-py3-none-any.whl (13 kB)\n",
      "Installing collected packages: llama-index-core, llama-cloud, llama-parse, llama-index-readers-file, llama-index-llms-openai, llama-index-legacy, llama-index-indices-managed-llama-cloud, llama-index-embeddings-openai, llama-index-readers-llama-parse, llama-index-multi-modal-llms-openai, llama-index-llms-fireworks, llama-index-cli, llama-index-agent-openai, llama-index-program-openai, llama-index-question-gen-openai, llama-index\n",
      "Successfully installed llama-cloud-0.1.4 llama-index-0.11.21 llama-index-agent-openai-0.3.4 llama-index-cli-0.3.1 llama-index-core-0.11.21 llama-index-embeddings-openai-0.2.5 llama-index-indices-managed-llama-cloud-0.4.0 llama-index-legacy-0.9.48.post3 llama-index-llms-fireworks-0.2.2 llama-index-llms-openai-0.2.16 llama-index-multi-modal-llms-openai-0.2.3 llama-index-program-openai-0.2.0 llama-index-question-gen-openai-0.2.0 llama-index-readers-file-0.2.2 llama-index-readers-llama-parse-0.3.0 llama-parse-0.5.13\n"
     ]
    },
    {
     "name": "stderr",
     "output_type": "stream",
     "text": [
      "  WARNING: The script llama-parse.exe is installed in 'C:\\Users\\akidra\\AppData\\Roaming\\Python\\Python311\\Scripts' which is not on PATH.\n",
      "  Consider adding this directory to PATH or, if you prefer to suppress this warning, use --no-warn-script-location.\n",
      "  WARNING: The script llamaindex-legacy-cli.exe is installed in 'C:\\Users\\akidra\\AppData\\Roaming\\Python\\Python311\\Scripts' which is not on PATH.\n",
      "  Consider adding this directory to PATH or, if you prefer to suppress this warning, use --no-warn-script-location.\n",
      "  WARNING: The script llamaindex-cli.exe is installed in 'C:\\Users\\akidra\\AppData\\Roaming\\Python\\Python311\\Scripts' which is not on PATH.\n",
      "  Consider adding this directory to PATH or, if you prefer to suppress this warning, use --no-warn-script-location.\n",
      "  WARNING: The script llamaindex-cli.exe is installed in 'C:\\Users\\akidra\\AppData\\Roaming\\Python\\Python311\\Scripts' which is not on PATH.\n",
      "  Consider adding this directory to PATH or, if you prefer to suppress this warning, use --no-warn-script-location.\n",
      "ERROR: pip's dependency resolver does not currently take into account all the packages that are installed. This behaviour is the source of the following dependency conflicts.\n",
      "pymemgpt 0.2.10 requires llama-index<0.10.0,>=0.9.13, but you have llama-index 0.11.21 which is incompatible.\n",
      "pymemgpt 0.2.10 requires pypdf<4.0.0,>=3.17.1, but you have pypdf 4.3.1 which is incompatible.\n",
      "pymemgpt 0.2.10 requires typer[all]<0.10.0,>=0.9.0, but you have typer 0.12.5 which is incompatible.\n"
     ]
    }
   ],
   "source": [
    "!pip install llama-index llama-index-llms-fireworks"
   ]
  },
  {
   "cell_type": "code",
   "execution_count": 11,
   "id": "317cf767-7bb8-4344-8468-fdb9c300458c",
   "metadata": {},
   "outputs": [
    {
     "ename": "ValueError",
     "evalue": "Did not find api_key, please add an environment variable `FIREWORKS_API_KEY` which contains it, or pass  `api_key` as a named parameter.",
     "output_type": "error",
     "traceback": [
      "\u001b[1;31m-----------------------------------------------------------------------\u001b[0m",
      "\u001b[1;31mValueError\u001b[0m                            Traceback (most recent call last)",
      "Cell \u001b[1;32mIn[11], line 6\u001b[0m\n\u001b[0;32m      1\u001b[0m \u001b[38;5;28;01mfrom\u001b[39;00m \u001b[38;5;21;01mllama_index\u001b[39;00m\u001b[38;5;21;01m.\u001b[39;00m\u001b[38;5;21;01mllms\u001b[39;00m\u001b[38;5;21;01m.\u001b[39;00m\u001b[38;5;21;01mfireworks\u001b[39;00m \u001b[38;5;28;01mimport\u001b[39;00m Fireworks\n\u001b[0;32m      3\u001b[0m llm \u001b[38;5;241m=\u001b[39m Fireworks(\n\u001b[0;32m      4\u001b[0m     model\u001b[38;5;241m=\u001b[39m\u001b[38;5;124m\"\u001b[39m\u001b[38;5;124maccounts/fireworks/models/firefunction-v1\u001b[39m\u001b[38;5;124m\"\u001b[39m, api_key\u001b[38;5;241m=\u001b[39m\u001b[38;5;124m\"\u001b[39m\u001b[38;5;124mmyAPIkey\u001b[39m\u001b[38;5;124m\"\u001b[39m\n\u001b[0;32m      5\u001b[0m )\n\u001b[1;32m----> 6\u001b[0m resp \u001b[38;5;241m=\u001b[39m \u001b[43mFireworks\u001b[49m\u001b[43m(\u001b[49m\u001b[43m)\u001b[49m\u001b[38;5;241m.\u001b[39mcomplete(\u001b[38;5;124m\"\u001b[39m\u001b[38;5;124mPaul Graham is \u001b[39m\u001b[38;5;124m\"\u001b[39m)\n\u001b[0;32m      7\u001b[0m \u001b[38;5;28mprint\u001b[39m(resp)\n",
      "File \u001b[1;32m~\\AppData\\Roaming\\Python\\Python311\\site-packages\\llama_index\\llms\\fireworks\\base.py:60\u001b[0m, in \u001b[0;36mFireworks.__init__\u001b[1;34m(self, model, temperature, max_tokens, additional_kwargs, max_retries, api_base, api_key, callback_manager, default_headers, system_prompt, messages_to_prompt, completion_to_prompt, pydantic_program_mode, output_parser)\u001b[0m\n\u001b[0;32m     57\u001b[0m callback_manager \u001b[38;5;241m=\u001b[39m callback_manager \u001b[38;5;129;01mor\u001b[39;00m CallbackManager([])\n\u001b[0;32m     59\u001b[0m api_base \u001b[38;5;241m=\u001b[39m get_from_param_or_env(\u001b[38;5;124m\"\u001b[39m\u001b[38;5;124mapi_base\u001b[39m\u001b[38;5;124m\"\u001b[39m, api_base, \u001b[38;5;124m\"\u001b[39m\u001b[38;5;124mFIREWORKS_API_BASE\u001b[39m\u001b[38;5;124m\"\u001b[39m)\n\u001b[1;32m---> 60\u001b[0m api_key \u001b[38;5;241m=\u001b[39m \u001b[43mget_from_param_or_env\u001b[49m\u001b[43m(\u001b[49m\u001b[38;5;124;43m\"\u001b[39;49m\u001b[38;5;124;43mapi_key\u001b[39;49m\u001b[38;5;124;43m\"\u001b[39;49m\u001b[43m,\u001b[49m\u001b[43m \u001b[49m\u001b[43mapi_key\u001b[49m\u001b[43m,\u001b[49m\u001b[43m \u001b[49m\u001b[38;5;124;43m\"\u001b[39;49m\u001b[38;5;124;43mFIREWORKS_API_KEY\u001b[39;49m\u001b[38;5;124;43m\"\u001b[39;49m\u001b[43m)\u001b[49m\n\u001b[0;32m     62\u001b[0m \u001b[38;5;28msuper\u001b[39m()\u001b[38;5;241m.\u001b[39m\u001b[38;5;21m__init__\u001b[39m(\n\u001b[0;32m     63\u001b[0m     model\u001b[38;5;241m=\u001b[39mmodel,\n\u001b[0;32m     64\u001b[0m     temperature\u001b[38;5;241m=\u001b[39mtemperature,\n\u001b[1;32m   (...)\u001b[0m\n\u001b[0;32m     76\u001b[0m     output_parser\u001b[38;5;241m=\u001b[39moutput_parser,\n\u001b[0;32m     77\u001b[0m )\n",
      "File \u001b[1;32m~\\AppData\\Roaming\\Python\\Python311\\site-packages\\llama_index\\core\\base\\llms\\generic_utils.py:311\u001b[0m, in \u001b[0;36mget_from_param_or_env\u001b[1;34m(key, param, env_key, default)\u001b[0m\n\u001b[0;32m    309\u001b[0m     \u001b[38;5;28;01mreturn\u001b[39;00m default\n\u001b[0;32m    310\u001b[0m \u001b[38;5;28;01melse\u001b[39;00m:\n\u001b[1;32m--> 311\u001b[0m     \u001b[38;5;28;01mraise\u001b[39;00m \u001b[38;5;167;01mValueError\u001b[39;00m(\n\u001b[0;32m    312\u001b[0m         \u001b[38;5;124mf\u001b[39m\u001b[38;5;124m\"\u001b[39m\u001b[38;5;124mDid not find \u001b[39m\u001b[38;5;132;01m{\u001b[39;00mkey\u001b[38;5;132;01m}\u001b[39;00m\u001b[38;5;124m, please add an environment variable\u001b[39m\u001b[38;5;124m\"\u001b[39m\n\u001b[0;32m    313\u001b[0m         \u001b[38;5;124mf\u001b[39m\u001b[38;5;124m\"\u001b[39m\u001b[38;5;124m `\u001b[39m\u001b[38;5;132;01m{\u001b[39;00menv_key\u001b[38;5;132;01m}\u001b[39;00m\u001b[38;5;124m` which contains it, or pass\u001b[39m\u001b[38;5;124m\"\u001b[39m\n\u001b[0;32m    314\u001b[0m         \u001b[38;5;124mf\u001b[39m\u001b[38;5;124m\"\u001b[39m\u001b[38;5;124m  `\u001b[39m\u001b[38;5;132;01m{\u001b[39;00mkey\u001b[38;5;132;01m}\u001b[39;00m\u001b[38;5;124m` as a named parameter.\u001b[39m\u001b[38;5;124m\"\u001b[39m\n\u001b[0;32m    315\u001b[0m     )\n",
      "\u001b[1;31mValueError\u001b[0m: Did not find api_key, please add an environment variable `FIREWORKS_API_KEY` which contains it, or pass  `api_key` as a named parameter."
     ]
    }
   ],
   "source": [
    "from llama_index.llms.fireworks import Fireworks\n",
    "\n",
    "llm = Fireworks(\n",
    "    model=\"accounts/fireworks/models/firefunction-v1\", api_key=\"myAPIkey\"\n",
    ")\n",
    "resp = Fireworks().complete(\"Paul Graham is \")\n",
    "print(resp)"
   ]
  }
 ],
 "metadata": {
  "kernelspec": {
   "display_name": "Python 3 (ipykernel)",
   "language": "python",
   "name": "python3"
  },
  "language_info": {
   "codemirror_mode": {
    "name": "ipython",
    "version": 3
   },
   "file_extension": ".py",
   "mimetype": "text/x-python",
   "name": "python",
   "nbconvert_exporter": "python",
   "pygments_lexer": "ipython3",
   "version": "3.11.2"
  }
 },
 "nbformat": 4,
 "nbformat_minor": 5
}
